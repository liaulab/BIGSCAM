{
 "cells": [
  {
   "cell_type": "markdown",
   "metadata": {},
   "source": [
    "# Generate CSN Complex (COP9 Signalsome) Libraries"
   ]
  },
  {
   "cell_type": "code",
   "execution_count": 1,
   "metadata": {},
   "outputs": [],
   "source": [
    "import be_scan\n",
    "import warnings\n",
    "warnings.filterwarnings('ignore')\n",
    "import pandas as pd"
   ]
  },
  {
   "cell_type": "code",
   "execution_count": 2,
   "metadata": {},
   "outputs": [],
   "source": [
    "sgrna_dir = '../../../tests/test_data/sgrna_data/'\n",
    "gene_dir = '../../../../../../Downloads/CSN/Genes/'\n",
    "protein_dir = '../../../../../../Downloads/CSN/Proteins/'\n",
    "libraries_dir = '../../../../../../Downloads/CSN/Libraries/'\n",
    "\n",
    "subunits = ['1', '2', '3', '4', '5', '6', '7A', '7B', '8']"
   ]
  },
  {
   "cell_type": "code",
   "execution_count": 3,
   "metadata": {},
   "outputs": [],
   "source": [
    "cop9 = [('COPS1', gene_dir+'GSP1_Input.fasta', protein_dir+'GSP1_Protein.fasta')]\n",
    "for s in subunits[1:]: \n",
    "    cop9.append((f\"COPS{s}\", gene_dir+f\"COPS{s}_Input.fasta\", protein_dir+f\"COPS{s}_Protein.fasta\"))\n",
    "\n",
    "editors = [(\"A\", \"G\"), \n",
    "           (\"C\", \"T\",)\n",
    "           ]"
   ]
  },
  {
   "cell_type": "code",
   "execution_count": 4,
   "metadata": {},
   "outputs": [
    {
     "name": "stdout",
     "output_type": "stream",
     "text": [
      "Create gene object from ../../../../../../Downloads/CSN/Genes/GSP1_Input.fasta\n",
      "Parsing exons: 14 exons found\n",
      "Preprocessing sucessful\n",
      "40116757 lines processed from ../../../../reference_genomes/GCF_000001405.26/ncbi_dataset/data/GCF_000001405.26/GCF_000001405.26_GRCh38_genomic.fna\n",
      "Create gene object from ../../../../../../Downloads/CSN/Genes/GSP1_Input.fasta\n",
      "Parsing exons: 14 exons found\n",
      "Preprocessing sucessful\n",
      "40116757 lines processed from ../../../../reference_genomes/GCF_000001405.26/ncbi_dataset/data/GCF_000001405.26/GCF_000001405.26_GRCh38_genomic.fna\n",
      "Create gene object from ../../../../../../Downloads/CSN/Genes/COPS2_Input.fasta\n",
      "Parsing exons: 13 exons found\n",
      "Preprocessing sucessful\n",
      "40116757 lines processed from ../../../../reference_genomes/GCF_000001405.26/ncbi_dataset/data/GCF_000001405.26/GCF_000001405.26_GRCh38_genomic.fna\n",
      "Create gene object from ../../../../../../Downloads/CSN/Genes/COPS2_Input.fasta\n",
      "Parsing exons: 13 exons found\n",
      "Preprocessing sucessful\n",
      "40116757 lines processed from ../../../../reference_genomes/GCF_000001405.26/ncbi_dataset/data/GCF_000001405.26/GCF_000001405.26_GRCh38_genomic.fna\n",
      "Create gene object from ../../../../../../Downloads/CSN/Genes/COPS3_Input.fasta\n",
      "Parsing exons: 11 exons found\n",
      "Preprocessing sucessful\n",
      "40116757 lines processed from ../../../../reference_genomes/GCF_000001405.26/ncbi_dataset/data/GCF_000001405.26/GCF_000001405.26_GRCh38_genomic.fna\n",
      "Create gene object from ../../../../../../Downloads/CSN/Genes/COPS3_Input.fasta\n",
      "Parsing exons: 11 exons found\n",
      "Preprocessing sucessful\n",
      "40116757 lines processed from ../../../../reference_genomes/GCF_000001405.26/ncbi_dataset/data/GCF_000001405.26/GCF_000001405.26_GRCh38_genomic.fna\n",
      "Create gene object from ../../../../../../Downloads/CSN/Genes/COPS4_Input.fasta\n",
      "Parsing exons: 9 exons found\n",
      "Preprocessing sucessful\n",
      "40116757 lines processed from ../../../../reference_genomes/GCF_000001405.26/ncbi_dataset/data/GCF_000001405.26/GCF_000001405.26_GRCh38_genomic.fna\n",
      "Create gene object from ../../../../../../Downloads/CSN/Genes/COPS4_Input.fasta\n",
      "Parsing exons: 9 exons found\n",
      "Preprocessing sucessful\n",
      "40116757 lines processed from ../../../../reference_genomes/GCF_000001405.26/ncbi_dataset/data/GCF_000001405.26/GCF_000001405.26_GRCh38_genomic.fna\n",
      "Create gene object from ../../../../../../Downloads/CSN/Genes/COPS5_Input.fasta\n",
      "Parsing exons: 8 exons found\n",
      "Preprocessing sucessful\n",
      "40116757 lines processed from ../../../../reference_genomes/GCF_000001405.26/ncbi_dataset/data/GCF_000001405.26/GCF_000001405.26_GRCh38_genomic.fna\n",
      "Create gene object from ../../../../../../Downloads/CSN/Genes/COPS5_Input.fasta\n",
      "Parsing exons: 8 exons found\n",
      "Preprocessing sucessful\n",
      "40116757 lines processed from ../../../../reference_genomes/GCF_000001405.26/ncbi_dataset/data/GCF_000001405.26/GCF_000001405.26_GRCh38_genomic.fna\n",
      "Create gene object from ../../../../../../Downloads/CSN/Genes/COPS6_Input.fasta\n",
      "Parsing exons: 10 exons found\n",
      "Preprocessing sucessful\n",
      "40116757 lines processed from ../../../../reference_genomes/GCF_000001405.26/ncbi_dataset/data/GCF_000001405.26/GCF_000001405.26_GRCh38_genomic.fna\n",
      "Create gene object from ../../../../../../Downloads/CSN/Genes/COPS6_Input.fasta\n",
      "Parsing exons: 10 exons found\n",
      "Preprocessing sucessful\n",
      "40116757 lines processed from ../../../../reference_genomes/GCF_000001405.26/ncbi_dataset/data/GCF_000001405.26/GCF_000001405.26_GRCh38_genomic.fna\n",
      "Create gene object from ../../../../../../Downloads/CSN/Genes/COPS7A_Input.fasta\n",
      "Parsing exons: 7 exons found\n",
      "Preprocessing sucessful\n",
      "40116757 lines processed from ../../../../reference_genomes/GCF_000001405.26/ncbi_dataset/data/GCF_000001405.26/GCF_000001405.26_GRCh38_genomic.fna\n",
      "Create gene object from ../../../../../../Downloads/CSN/Genes/COPS7A_Input.fasta\n",
      "Parsing exons: 7 exons found\n",
      "Preprocessing sucessful\n",
      "40116757 lines processed from ../../../../reference_genomes/GCF_000001405.26/ncbi_dataset/data/GCF_000001405.26/GCF_000001405.26_GRCh38_genomic.fna\n",
      "Create gene object from ../../../../../../Downloads/CSN/Genes/COPS7B_Input.fasta\n",
      "Parsing exons: 6 exons found\n",
      "Preprocessing sucessful\n",
      "40116757 lines processed from ../../../../reference_genomes/GCF_000001405.26/ncbi_dataset/data/GCF_000001405.26/GCF_000001405.26_GRCh38_genomic.fna\n",
      "Create gene object from ../../../../../../Downloads/CSN/Genes/COPS7B_Input.fasta\n",
      "Parsing exons: 6 exons found\n",
      "Preprocessing sucessful\n",
      "40116757 lines processed from ../../../../reference_genomes/GCF_000001405.26/ncbi_dataset/data/GCF_000001405.26/GCF_000001405.26_GRCh38_genomic.fna\n",
      "Create gene object from ../../../../../../Downloads/CSN/Genes/COPS8_Input.fasta\n",
      "Parsing exons: 8 exons found\n",
      "Preprocessing sucessful\n",
      "40116757 lines processed from ../../../../reference_genomes/GCF_000001405.26/ncbi_dataset/data/GCF_000001405.26/GCF_000001405.26_GRCh38_genomic.fna\n",
      "Create gene object from ../../../../../../Downloads/CSN/Genes/COPS8_Input.fasta\n",
      "Parsing exons: 8 exons found\n",
      "Preprocessing sucessful\n",
      "40116757 lines processed from ../../../../reference_genomes/GCF_000001405.26/ncbi_dataset/data/GCF_000001405.26/GCF_000001405.26_GRCh38_genomic.fna\n"
     ]
    }
   ],
   "source": [
    "# for each protein (gene, protein)\n",
    "for x in cop9: \n",
    "    name, gene, protein = x[0], x[1], x[2]\n",
    "    # for each ABE CBE\n",
    "    for edit in editors: \n",
    "        e1, e2 = edit[0], edit[1]\n",
    "        be_scan.sgrna.guides(\n",
    "                gene_filepath = gene, \n",
    "                genome_file  = \"../../../../reference_genomes/GCF_000001405.26/ncbi_dataset/data/GCF_000001405.26/GCF_000001405.26_GRCh38_genomic.fna\",\n",
    "                protein_filepath = protein, \n",
    "                cas_type      = \"SpG\", \n",
    "                edit_from     = e1, \n",
    "                edit_to       = e2,\n",
    "                gene_name     = name,\n",
    "                output_name   = '_'.join([name, e1+'to'+e2, 'annotated_guides.csv']),\n",
    "                output_dir    = libraries_dir,\n",
    "                )"
   ]
  },
  {
   "cell_type": "code",
   "execution_count": 7,
   "metadata": {},
   "outputs": [],
   "source": [
    "# merge each gene's guides\n",
    "libraries = []\n",
    "for s in subunits: \n",
    "    libraries.append((libraries_dir+f\"COPS{s}_AtoG_annotated_guides.csv\", libraries_dir+f\"COPS{s}_CtoT_annotated_guides.csv\", f\"COPS{s}_library.csv\"))\n",
    "\n",
    "for pair in libraries: \n",
    "    abe = pair[0]\n",
    "    cbe = pair[1]\n",
    "    out = pair[2]\n",
    "    be_scan.sgrna.merge_guide_df(guide_df1_filepath = abe,\n",
    "                                 guide_df2_filepath = cbe,\n",
    "                                 output_dir = libraries_dir,\n",
    "                                 output_name = out,\n",
    "                                )\n",
    "\n",
    "# add dataframes together\n"
   ]
  },
  {
   "cell_type": "code",
   "execution_count": 8,
   "metadata": {},
   "outputs": [],
   "source": [
    "cops = []\n",
    "for s in subunits: \n",
    "    cops.append(pd.read_csv(libraries_dir+f\"COPS{s}_library.csv\"))\n",
    "\n",
    "csn_lib = pd.concat(cops)\n",
    "csn_lib.to_csv(libraries_dir+'CSN_Library.csv')"
   ]
  }
 ],
 "metadata": {
  "kernelspec": {
   "display_name": "be-scan",
   "language": "python",
   "name": "python3"
  },
  "language_info": {
   "codemirror_mode": {
    "name": "ipython",
    "version": 3
   },
   "file_extension": ".py",
   "mimetype": "text/x-python",
   "name": "python",
   "nbconvert_exporter": "python",
   "pygments_lexer": "ipython3",
   "version": "3.12.0"
  }
 },
 "nbformat": 4,
 "nbformat_minor": 2
}
