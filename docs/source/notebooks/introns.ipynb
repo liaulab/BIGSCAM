{
 "cells": [
  {
   "cell_type": "code",
   "execution_count": 1,
   "metadata": {},
   "outputs": [],
   "source": [
    "import be_scan\n",
    "import warnings\n",
    "warnings.filterwarnings('ignore')\n",
    "import pandas as pd"
   ]
  },
  {
   "cell_type": "code",
   "execution_count": 2,
   "metadata": {},
   "outputs": [],
   "source": [
    "gene_dir = '../../../../../../Downloads/CSN/new_Genes/'\n",
    "protein_dir = '../../../../../../Downloads/CSN/new_Proteins/'\n",
    "libraries_dir = '../../../../../../Downloads/CSN/new_Libraries/'"
   ]
  },
  {
   "cell_type": "code",
   "execution_count": 4,
   "metadata": {},
   "outputs": [
    {
     "name": "stdout",
     "output_type": "stream",
     "text": [
      "Create gene object from ../../../../../../Downloads/CSN/new_Genes/GSP1_Input.fasta\n",
      "Parsing exons: 13 exons found\n",
      "Preprocessing sucessful\n",
      "Guides generated and duplicates removed\n",
      "40116757 lines processed from ../../../../../GitHub/reference_genomes/GCF_000001405.26/ncbi_dataset/data/GCF_000001405.26/GCF_000001405.26_GRCh38_genomic.fna\n",
      "Guides checked against reference genome\n",
      "Guides annotated\n",
      "Complete! Library generated from ../../../../../../Downloads/CSN/new_Genes/GSP1_Input.fasta\n"
     ]
    }
   ],
   "source": [
    "cops1_lib = be_scan.sgrna.guides(gene_filepath    =gene_dir+\"GSP1_Input (1).fasta\", \n",
    "                                gene_name        =\"COPS1\", \n",
    "                                genome_file      =\"../../../../../GitHub/reference_genomes/GCF_000001405.26/ncbi_dataset/data/GCF_000001405.26/GCF_000001405.26_GRCh38_genomic.fna\", \n",
    "                                protein_filepath =protein_dir+\"GSP1_Protein.fasta\", \n",
    "                                cas_type         =\"SpG\", \n",
    "                                edit_from        =\"C\", \n",
    "                                edit_to          =\"G\", \n",
    "                                exclude_introns  = False,\n",
    "                                )"
   ]
  },
  {
   "cell_type": "code",
   "execution_count": 5,
   "metadata": {},
   "outputs": [],
   "source": [
    "HSK_lib = pd.read_csv('../../../../../../Downloads/CSN/'+'HSK_CSN_lib.csv')\n",
    "\n",
    "# merged = HSK_lib.merge(csn_lib, how='outer', on='sgRNA_seq')\n",
    "merged = pd.merge(HSK_lib, cops1_lib, left_on=HSK_lib[\"sgRNA_seq\"].str.lower(), right_on=cops1_lib[\"sgRNA_seq\"].str.lower(), how=\"outer\")\n",
    "merged.to_csv('check.csv')\n"
   ]
  }
 ],
 "metadata": {
  "kernelspec": {
   "display_name": "be-scan",
   "language": "python",
   "name": "python3"
  },
  "language_info": {
   "codemirror_mode": {
    "name": "ipython",
    "version": 3
   },
   "file_extension": ".py",
   "mimetype": "text/x-python",
   "name": "python",
   "nbconvert_exporter": "python",
   "pygments_lexer": "ipython3",
   "version": "3.12.0"
  }
 },
 "nbformat": 4,
 "nbformat_minor": 2
}
