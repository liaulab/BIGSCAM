{
 "cells": [
  {
   "cell_type": "markdown",
   "metadata": {},
   "source": [
    "# Tutorial Notebook"
   ]
  },
  {
   "cell_type": "markdown",
   "metadata": {},
   "source": [
    "Ok this is supposed to be a tutorial python notebook to import and use functions from be-scan but I can't figure out the syntax of how to import, and it's not a priority"
   ]
  },
  {
   "cell_type": "code",
   "execution_count": 36,
   "metadata": {},
   "outputs": [],
   "source": [
    "# control, import pandas\n",
    "import pandas as pd\n"
   ]
  },
  {
   "cell_type": "code",
   "execution_count": 37,
   "metadata": {},
   "outputs": [],
   "source": [
    "import os\n",
    "os.chdir('/Users/calvinxyh/Documents/GitHub/be_scan') ### should really be changed when this is an actual package\n",
    "\n",
    "import be_scan"
   ]
  },
  {
   "cell_type": "code",
   "execution_count": 38,
   "metadata": {},
   "outputs": [
    {
     "ename": "TypeError",
     "evalue": "'NoneType' object is not subscriptable",
     "output_type": "error",
     "traceback": [
      "\u001b[0;31m---------------------------------------------------------------------------\u001b[0m",
      "\u001b[0;31mTypeError\u001b[0m                                 Traceback (most recent call last)",
      "\u001b[1;32m/Users/calvinxyh/Documents/GitHub/be_scan/docs/source/notebooks/tutorial.ipynb Cell 5\u001b[0m line \u001b[0;36m5\n\u001b[1;32m      <a href='vscode-notebook-cell:/Users/calvinxyh/Documents/GitHub/be_scan/docs/source/notebooks/tutorial.ipynb#X10sZmlsZQ%3D%3D?line=0'>1</a>\u001b[0m \u001b[39m# python3 -m be_scan plot_scatterplot -df '../../../Downloads/NZL10196_v9_comparisons.csv' \u001b[39;00m\n\u001b[1;32m      <a href='vscode-notebook-cell:/Users/calvinxyh/Documents/GitHub/be_scan/docs/source/notebooks/tutorial.ipynb#X10sZmlsZQ%3D%3D?line=1'>2</a>\u001b[0m \u001b[39m#         -x 'Edit_site_3A1' -y 'log2_fc' -hue 'Mut_type'\u001b[39;00m\n\u001b[1;32m      <a href='vscode-notebook-cell:/Users/calvinxyh/Documents/GitHub/be_scan/docs/source/notebooks/tutorial.ipynb#X10sZmlsZQ%3D%3D?line=2'>3</a>\u001b[0m \u001b[39m#         -ncol 'Gene' -ncat 'NON-GENE' -win 224 912 -c 'd3-pos' 'd3-neg' 'd6-pos' 'd6-neg' 'd9-pos' 'd9-neg'\u001b[39;00m\n\u001b[0;32m----> <a href='vscode-notebook-cell:/Users/calvinxyh/Documents/GitHub/be_scan/docs/source/notebooks/tutorial.ipynb#X10sZmlsZQ%3D%3D?line=4'>5</a>\u001b[0m be_scan\u001b[39m.\u001b[39;49mplot_scatterplot(df_filepath       \u001b[39m=\u001b[39;49m\u001b[39m'\u001b[39;49m\u001b[39mtests/test_data/plot_test_data/NZL10196_v9_comparisons.csv\u001b[39;49m\u001b[39m'\u001b[39;49m, \n\u001b[1;32m      <a href='vscode-notebook-cell:/Users/calvinxyh/Documents/GitHub/be_scan/docs/source/notebooks/tutorial.ipynb#X10sZmlsZQ%3D%3D?line=5'>6</a>\u001b[0m                          x_column          \u001b[39m=\u001b[39;49m\u001b[39m'\u001b[39;49m\u001b[39mEdit_site_3A1\u001b[39;49m\u001b[39m'\u001b[39;49m, \n\u001b[1;32m      <a href='vscode-notebook-cell:/Users/calvinxyh/Documents/GitHub/be_scan/docs/source/notebooks/tutorial.ipynb#X10sZmlsZQ%3D%3D?line=6'>7</a>\u001b[0m                          y_column          \u001b[39m=\u001b[39;49m\u001b[39m'\u001b[39;49m\u001b[39mlog2_fc\u001b[39;49m\u001b[39m'\u001b[39;49m, \n\u001b[1;32m      <a href='vscode-notebook-cell:/Users/calvinxyh/Documents/GitHub/be_scan/docs/source/notebooks/tutorial.ipynb#X10sZmlsZQ%3D%3D?line=7'>8</a>\u001b[0m                          hue_column        \u001b[39m=\u001b[39;49m\u001b[39m'\u001b[39;49m\u001b[39mMut_type\u001b[39;49m\u001b[39m'\u001b[39;49m, \n\u001b[1;32m      <a href='vscode-notebook-cell:/Users/calvinxyh/Documents/GitHub/be_scan/docs/source/notebooks/tutorial.ipynb#X10sZmlsZQ%3D%3D?line=8'>9</a>\u001b[0m                          comparisons       \u001b[39m=\u001b[39;49m[\u001b[39m'\u001b[39;49m\u001b[39md3-pos\u001b[39;49m\u001b[39m'\u001b[39;49m, \u001b[39m'\u001b[39;49m\u001b[39md3-neg\u001b[39;49m\u001b[39m'\u001b[39;49m, \u001b[39m'\u001b[39;49m\u001b[39md6-pos\u001b[39;49m\u001b[39m'\u001b[39;49m, \u001b[39m'\u001b[39;49m\u001b[39md6-neg\u001b[39;49m\u001b[39m'\u001b[39;49m, \u001b[39m'\u001b[39;49m\u001b[39md9-pos\u001b[39;49m\u001b[39m'\u001b[39;49m, \u001b[39m'\u001b[39;49m\u001b[39md9-neg\u001b[39;49m\u001b[39m'\u001b[39;49m], \n\u001b[1;32m     <a href='vscode-notebook-cell:/Users/calvinxyh/Documents/GitHub/be_scan/docs/source/notebooks/tutorial.ipynb#X10sZmlsZQ%3D%3D?line=9'>10</a>\u001b[0m                          neg_ctrl_col      \u001b[39m=\u001b[39;49m\u001b[39m'\u001b[39;49m\u001b[39mGene\u001b[39;49m\u001b[39m'\u001b[39;49m, \n\u001b[1;32m     <a href='vscode-notebook-cell:/Users/calvinxyh/Documents/GitHub/be_scan/docs/source/notebooks/tutorial.ipynb#X10sZmlsZQ%3D%3D?line=10'>11</a>\u001b[0m                          neg_ctrl_category \u001b[39m=\u001b[39;49m\u001b[39m'\u001b[39;49m\u001b[39mNON-GENE\u001b[39;49m\u001b[39m'\u001b[39;49m,\n\u001b[1;32m     <a href='vscode-notebook-cell:/Users/calvinxyh/Documents/GitHub/be_scan/docs/source/notebooks/tutorial.ipynb#X10sZmlsZQ%3D%3D?line=11'>12</a>\u001b[0m                          )\n",
      "File \u001b[0;32m~/Documents/GitHub/be_scan/be_scan/plot/scatterplot.py:88\u001b[0m, in \u001b[0;36mplot_scatterplot\u001b[0;34m(df_filepath, x_column, y_column, hue_column, comparisons, neg_ctrl_col, neg_ctrl_category, window, xlab, ylab, out_name, out_type, out_directory, alpha, linewidth, edgecolor, s, figsize)\u001b[0m\n\u001b[1;32m     85\u001b[0m hue_order_s \u001b[39m=\u001b[39m list_muttypes[:\u001b[39m3\u001b[39m]\n\u001b[1;32m     86\u001b[0m palette_s \u001b[39m=\u001b[39m color_list[:\u001b[39m3\u001b[39m]\n\u001b[0;32m---> 88\u001b[0m df_filtered \u001b[39m=\u001b[39m df_logfc\u001b[39m.\u001b[39mloc[(df_logfc[x_column]\u001b[39m>\u001b[39m\u001b[39m=\u001b[39mwindow[\u001b[39m0\u001b[39;49m]) \u001b[39m&\u001b[39m (df_logfc[x_column]\u001b[39m<\u001b[39m\u001b[39m=\u001b[39mwindow[\u001b[39m1\u001b[39m])]\n\u001b[1;32m     89\u001b[0m df_filtered \u001b[39m=\u001b[39m df_filtered\u001b[39m.\u001b[39mloc[df_filtered[hue_column]\u001b[39m.\u001b[39misin(list_muttypes[:\u001b[39m3\u001b[39m])]\n\u001b[1;32m     91\u001b[0m \u001b[39m# output pdf information\u001b[39;00m\n",
      "\u001b[0;31mTypeError\u001b[0m: 'NoneType' object is not subscriptable"
     ]
    }
   ],
   "source": [
    "# python3 -m be_scan plot_scatterplot -df '../../../Downloads/NZL10196_v9_comparisons.csv' \n",
    "#         -x 'Edit_site_3A1' -y 'log2_fc' -hue 'Mut_type'\n",
    "#         -ncol 'Gene' -ncat 'NON-GENE' -win 224 912 -c 'd3-pos' 'd3-neg' 'd6-pos' 'd6-neg' 'd9-pos' 'd9-neg'\n",
    "\n",
    "be_scan.plot_scatterplot(df_filepath       ='tests/test_data/plot_test_data/NZL10196_v9_comparisons.csv', \n",
    "                         x_column          ='Edit_site_3A1', \n",
    "                         y_column          ='log2_fc', \n",
    "                         hue_column        ='Mut_type', \n",
    "                         comparisons       =['d3-pos', 'd3-neg', 'd6-pos', 'd6-neg', 'd9-pos', 'd9-neg'], \n",
    "                         neg_ctrl_col      ='Gene', \n",
    "                         neg_ctrl_category ='NON-GENE',\n",
    "                         )"
   ]
  },
  {
   "cell_type": "code",
   "execution_count": 28,
   "metadata": {},
   "outputs": [
    {
     "data": {
      "text/plain": [
       "<function be_scan.plot.correlation_heatmap.plot_corr_heatmap(df_filepath, comparisons, corr_type='spearman', xlab='', ylab='', title='Spearman Correlation Heatmap', out_directory='', out_name='correlation_heatmap', out_type='pdf', center=0, linewidth=0.5, line_pos=[], cmap='coolwarm')>"
      ]
     },
     "execution_count": 28,
     "metadata": {},
     "output_type": "execute_result"
    }
   ],
   "source": [
    "be_scan.plot_corr_heatmap(df_filepath =, \n",
    "                          comparisons =\n",
    "                          )"
   ]
  },
  {
   "cell_type": "code",
   "execution_count": 29,
   "metadata": {},
   "outputs": [
    {
     "data": {
      "text/plain": [
       "<function be_scan.plot.correlation_scatter.plot_corr_scatterplot(df_filepath, condition1, condition2, hue_column, hue_order=['Nonsense', 'Missense', 'Silent', 'Non-exon', 'Splice', 'No_C/Exon', 'No_C/Non-exon', 'Control'], palette=['#fb8072', '#80b1d3', '#fdb462', '#b3de69', '#fccde5', '#d9d9d9', '#8dd3c7', '#ffffb3', '#bebada', '#bc80bd'], xmin=None, xmax=None, ymin=None, ymax=None, xlab='cond1 score', ylab='cond2 score', out_directory='', out_name='correlation_scatterplot', out_type='pdf', alpha=0.8, linewidth=1, edgecolor='black', s=25, figsize=(4.5, 4))>"
      ]
     },
     "execution_count": 29,
     "metadata": {},
     "output_type": "execute_result"
    }
   ],
   "source": [
    "be_scan.plot_corr_scatterplot(df_filepath =, \n",
    "                              condition1  =, \n",
    "                              condition2  =, \n",
    "                              hue_column  =\n",
    "                              )"
   ]
  },
  {
   "cell_type": "code",
   "execution_count": 30,
   "metadata": {},
   "outputs": [
    {
     "name": "stdout",
     "output_type": "stream",
     "text": [
      "['__builtins__', '__cached__', '__doc__', '__file__', '__loader__', '__name__', '__package__', '__path__', '__spec__', 'plot_corr_heatmap', 'plot_corr_scatterplot', 'plot_scatterplot']\n"
     ]
    }
   ],
   "source": [
    "print(dir(be_scan))"
   ]
  }
 ],
 "metadata": {
  "kernelspec": {
   "display_name": "be-scan",
   "language": "python",
   "name": "python3"
  },
  "language_info": {
   "codemirror_mode": {
    "name": "ipython",
    "version": 3
   },
   "file_extension": ".py",
   "mimetype": "text/x-python",
   "name": "python",
   "nbconvert_exporter": "python",
   "pygments_lexer": "ipython3",
   "version": "3.12.0"
  }
 },
 "nbformat": 4,
 "nbformat_minor": 4
}
