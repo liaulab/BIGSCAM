{
 "cells": [
  {
   "cell_type": "markdown",
   "metadata": {},
   "source": [
    "# CLI Tutorial Notebook"
   ]
  },
  {
   "cell_type": "markdown",
   "metadata": {},
   "source": [
    "## Function Calls"
   ]
  },
  {
   "cell_type": "code",
   "execution_count": 1,
   "metadata": {},
   "outputs": [
    {
     "name": "stdout",
     "output_type": "stream",
     "text": [
      "Found existing installation: be_scan 0.0.2\n",
      "Uninstalling be_scan-0.0.2:\n",
      "  Successfully uninstalled be_scan-0.0.2\n",
      "Collecting git+https://github.com/liaulab/be-scan.git\n",
      "  Cloning https://github.com/liaulab/be-scan.git (to revision feedback_fix) to /private/var/folders/zg/n1xk_ddd26n29rcnygly3q0c0000gn/T/pip-req-build-j8oy03z5\n",
      "  Running command git clone --filter=blob:none --quiet https://github.com/liaulab/be-scan.git /private/var/folders/zg/n1xk_ddd26n29rcnygly3q0c0000gn/T/pip-req-build-j8oy03z5\n",
      "  Running command git checkout -b feedback_fix --track origin/feedback_fix\n",
      "  Switched to a new branch 'feedback_fix'\n",
      "  branch 'feedback_fix' set up to track 'origin/feedback_fix'.\n",
      "  Resolved https://github.com/liaulab/be-scan.git to commit 28056a361194e442c826f83025bbcde803b065f9\n",
      "  Installing build dependencies ... \u001b[?25ldone\n",
      "\u001b[?25h  Getting requirements to build wheel ... \u001b[?25ldone\n",
      "\u001b[?25h  Preparing metadata (pyproject.toml) ... \u001b[?25ldone\n",
      "\u001b[?25hRequirement already satisfied: biopython in /Users/calvinxyh/opt/anaconda3/envs/be-scan/lib/python3.12/site-packages (from be_scan==0.0.2) (1.81)\n",
      "Requirement already satisfied: matplotlib in /Users/calvinxyh/opt/anaconda3/envs/be-scan/lib/python3.12/site-packages (from be_scan==0.0.2) (3.8.0)\n",
      "Requirement already satisfied: numpy in /Users/calvinxyh/opt/anaconda3/envs/be-scan/lib/python3.12/site-packages (from be_scan==0.0.2) (1.26.0)\n",
      "Requirement already satisfied: pandas in /Users/calvinxyh/opt/anaconda3/envs/be-scan/lib/python3.12/site-packages (from be_scan==0.0.2) (2.1.1)\n",
      "Requirement already satisfied: pyahocorasick in /Users/calvinxyh/opt/anaconda3/envs/be-scan/lib/python3.12/site-packages (from be_scan==0.0.2) (2.0.0)\n",
      "Requirement already satisfied: scikit-learn in /Users/calvinxyh/opt/anaconda3/envs/be-scan/lib/python3.12/site-packages (from be_scan==0.0.2) (1.3.2)\n",
      "Requirement already satisfied: seaborn in /Users/calvinxyh/opt/anaconda3/envs/be-scan/lib/python3.12/site-packages (from be_scan==0.0.2) (0.13.2)\n",
      "Requirement already satisfied: contourpy>=1.0.1 in /Users/calvinxyh/opt/anaconda3/envs/be-scan/lib/python3.12/site-packages (from matplotlib->be_scan==0.0.2) (1.0.5)\n",
      "Requirement already satisfied: cycler>=0.10 in /Users/calvinxyh/opt/anaconda3/envs/be-scan/lib/python3.12/site-packages (from matplotlib->be_scan==0.0.2) (0.11.0)\n",
      "Requirement already satisfied: fonttools>=4.22.0 in /Users/calvinxyh/opt/anaconda3/envs/be-scan/lib/python3.12/site-packages (from matplotlib->be_scan==0.0.2) (4.25.0)\n",
      "Requirement already satisfied: kiwisolver>=1.0.1 in /Users/calvinxyh/opt/anaconda3/envs/be-scan/lib/python3.12/site-packages (from matplotlib->be_scan==0.0.2) (1.4.4)\n",
      "Requirement already satisfied: packaging>=20.0 in /Users/calvinxyh/opt/anaconda3/envs/be-scan/lib/python3.12/site-packages (from matplotlib->be_scan==0.0.2) (23.1)\n",
      "Requirement already satisfied: pillow>=6.2.0 in /Users/calvinxyh/opt/anaconda3/envs/be-scan/lib/python3.12/site-packages (from matplotlib->be_scan==0.0.2) (10.0.1)\n",
      "Requirement already satisfied: pyparsing>=2.3.1 in /Users/calvinxyh/opt/anaconda3/envs/be-scan/lib/python3.12/site-packages (from matplotlib->be_scan==0.0.2) (3.0.9)\n",
      "Requirement already satisfied: python-dateutil>=2.7 in /Users/calvinxyh/opt/anaconda3/envs/be-scan/lib/python3.12/site-packages (from matplotlib->be_scan==0.0.2) (2.8.2)\n",
      "Requirement already satisfied: pytz>=2020.1 in /Users/calvinxyh/opt/anaconda3/envs/be-scan/lib/python3.12/site-packages (from pandas->be_scan==0.0.2) (2023.3.post1)\n",
      "Requirement already satisfied: tzdata>=2022.1 in /Users/calvinxyh/opt/anaconda3/envs/be-scan/lib/python3.12/site-packages (from pandas->be_scan==0.0.2) (2023.3)\n",
      "Requirement already satisfied: scipy>=1.5.0 in /Users/calvinxyh/opt/anaconda3/envs/be-scan/lib/python3.12/site-packages (from scikit-learn->be_scan==0.0.2) (1.11.3)\n",
      "Requirement already satisfied: joblib>=1.1.1 in /Users/calvinxyh/opt/anaconda3/envs/be-scan/lib/python3.12/site-packages (from scikit-learn->be_scan==0.0.2) (1.3.2)\n",
      "Requirement already satisfied: threadpoolctl>=2.0.0 in /Users/calvinxyh/opt/anaconda3/envs/be-scan/lib/python3.12/site-packages (from scikit-learn->be_scan==0.0.2) (3.2.0)\n",
      "Requirement already satisfied: six>=1.5 in /Users/calvinxyh/opt/anaconda3/envs/be-scan/lib/python3.12/site-packages (from python-dateutil>=2.7->matplotlib->be_scan==0.0.2) (1.16.0)\n",
      "Building wheels for collected packages: be_scan\n",
      "  Building wheel for be_scan (pyproject.toml) ... \u001b[?25ldone\n",
      "\u001b[?25h  Created wheel for be_scan: filename=be_scan-0.0.2-py3-none-any.whl size=72957 sha256=41ee979b9df6d16b5c9a219268b488a22663cd58c1564c0f43d8774f32e3b38f\n",
      "  Stored in directory: /private/var/folders/zg/n1xk_ddd26n29rcnygly3q0c0000gn/T/pip-ephem-wheel-cache-lkwjtalo/wheels/12/64/47/4551c777f9d1874af2ab1d51dc2c6520f878c94fbbdf343599\n",
      "Successfully built be_scan\n",
      "Installing collected packages: be_scan\n",
      "Successfully installed be_scan-0.0.2\n"
     ]
    }
   ],
   "source": [
    "# pip install be_scan\n",
    "!python -m pip uninstall be_scan --yes\n",
    "!python -m pip install git+https://github.com/liaulab/be-scan.git"
   ]
  },
  {
   "cell_type": "code",
   "execution_count": 2,
   "metadata": {},
   "outputs": [],
   "source": [
    "sgrna_dir = '../../../tests/test_data/sgrna/'\n",
    "analysis_dir = '../../../tests/test_data/analysis/'\n",
    "plot_dir = '../../../tests/test_data/plot/'"
   ]
  },
  {
   "cell_type": "markdown",
   "metadata": {},
   "source": [
    "## be_scan.sgrna "
   ]
  },
  {
   "cell_type": "code",
   "execution_count": 3,
   "metadata": {},
   "outputs": [],
   "source": [
    "gene_filepath = f\"{sgrna_dir}230408_AR_Input.fasta\"\n",
    "genome_file  = f\"{sgrna_dir}hg38_short.fa\"\n",
    "protein_filepath = f\"{sgrna_dir}P10275.fasta\""
   ]
  },
  {
   "cell_type": "markdown",
   "metadata": {},
   "source": [
    "### Function 1 be_scan.sgrna.generate_library()"
   ]
  },
  {
   "cell_type": "code",
   "execution_count": 4,
   "metadata": {},
   "outputs": [
    {
     "name": "stdout",
     "output_type": "stream",
     "text": [
      "Namespace(gene_filepath='../../../tests/test_data/sgrna/230408_AR_Input.fasta', cas_type='SpG', edit_from='C', edit_to='T', gene_name='AR', PAM=None, window=[4, 8], output_name='CBE_guides.csv', output_dir='', return_df=True, save_df=True, exclude_introns=False, exclude_nontargeting=True, func=<function generate_library at 0x105801120>)\n",
      "{'gene_filepath': '../../../tests/test_data/sgrna/230408_AR_Input.fasta', 'cas_type': 'SpG', 'edit_from': 'C', 'edit_to': 'T', 'gene_name': 'AR', 'PAM': None, 'window': [4, 8], 'output_name': 'CBE_guides.csv', 'output_dir': '', 'return_df': True, 'save_df': True, 'exclude_introns': False, 'exclude_nontargeting': True}\n",
      "Create gene object from ../../../tests/test_data/sgrna/230408_AR_Input.fasta\n",
      "Parsing exons: 8 exons found\n",
      "Preprocessing sucessful\n",
      "Guides generated and duplicates removed\n",
      "1324 guides were generated\n"
     ]
    }
   ],
   "source": [
    "! python3 -m be_scan generate_library {gene_filepath} \"SpG\" \"C\" \"T\" \\\n",
    "    --gene_name \"AR\" --exclude_introns --output_name \"CBE_guides.csv\""
   ]
  },
  {
   "cell_type": "markdown",
   "metadata": {},
   "source": [
    "### Function 2 be_scan.sgrna.annotate()"
   ]
  },
  {
   "cell_type": "code",
   "execution_count": 5,
   "metadata": {},
   "outputs": [
    {
     "name": "stdout",
     "output_type": "stream",
     "text": [
      "Namespace(guides_file='CBE_guides.csv', edit_from='C', edit_to='T', gene_filepath='', protein_filepath='../../../tests/test_data/sgrna/P10275.fasta', window=[4, 8], seq_col='sgRNA_seq', gene_pos_col='gene_pos', frame_col='starting_frame', strand_col='sgRNA_strand', output_name='annotated.csv', output_dir='', return_df=True, save_df=True, func=<function annotate at 0x12ae6f100>)\n",
      "{'guides_file': 'CBE_guides.csv', 'edit_from': 'C', 'edit_to': 'T', 'gene_filepath': '', 'protein_filepath': '../../../tests/test_data/sgrna/P10275.fasta', 'window': [4, 8], 'seq_col': 'sgRNA_seq', 'gene_pos_col': 'gene_pos', 'frame_col': 'starting_frame', 'strand_col': 'sgRNA_strand', 'output_name': 'annotated.csv', 'output_dir': '', 'return_df': True, 'save_df': True}\n",
      "Guides annotated\n"
     ]
    }
   ],
   "source": [
    "! python3 -m be_scan annotate \"CBE_guides.csv\" \"C\" \"T\" \\\n",
    "    --protein_filepath {protein_filepath}"
   ]
  },
  {
   "cell_type": "markdown",
   "metadata": {},
   "source": [
    "### Function 3 be_scan.sgrna.reference_check()"
   ]
  },
  {
   "cell_type": "code",
   "execution_count": 6,
   "metadata": {},
   "outputs": [
    {
     "name": "stdout",
     "output_type": "stream",
     "text": [
      "Namespace(guides_file='annotated.csv', genome_file='../../../tests/test_data/sgrna/hg38_short.fa', output_name='filtered.csv', output_dir='', delete=False, return_df=True, save_df=True, func=<function reference_check at 0x11ec52e80>)\n",
      "{'guides_file': 'annotated.csv', 'genome_file': '../../../tests/test_data/sgrna/hg38_short.fa', 'output_name': 'filtered.csv', 'output_dir': '', 'delete': False, 'return_df': True, 'save_df': True}\n",
      "5962 lines processed from ../../../tests/test_data/sgrna/hg38_short.fa\n",
      "0 guides out of 1324 guides occurred more than once in the reference genome\n",
      "Guides checked against reference genome\n"
     ]
    }
   ],
   "source": [
    "! python3 -m be_scan reference_check \"annotated.csv\" {genome_file}"
   ]
  },
  {
   "cell_type": "markdown",
   "metadata": {},
   "source": [
    "### Function 1-3 be_scan.sgrna.design_library()"
   ]
  },
  {
   "cell_type": "code",
   "execution_count": 7,
   "metadata": {},
   "outputs": [
    {
     "name": "stdout",
     "output_type": "stream",
     "text": [
      "Namespace(gene_filepath='../../../tests/test_data/sgrna/230408_AR_Input.fasta', genome_file='../../../tests/test_data/sgrna/hg38_short.fa', cas_type='SpG', edit_from='A', edit_to='G', gene_name='', protein_filepath='', PAM=None, window=[4, 8], output_name='annotated_guides.csv', output_dir='', return_df=True, delete=False, save_df=True, exclude_introns=True, exclude_nontargeting=True, func=<function design_library at 0x12eb7f420>)\n",
      "{'gene_filepath': '../../../tests/test_data/sgrna/230408_AR_Input.fasta', 'genome_file': '../../../tests/test_data/sgrna/hg38_short.fa', 'cas_type': 'SpG', 'edit_from': 'A', 'edit_to': 'G', 'gene_name': '', 'protein_filepath': '', 'PAM': None, 'window': [4, 8], 'output_name': 'annotated_guides.csv', 'output_dir': '', 'return_df': True, 'delete': False, 'save_df': True, 'exclude_introns': True, 'exclude_nontargeting': True}\n",
      "Create gene object from ../../../tests/test_data/sgrna/230408_AR_Input.fasta\n",
      "Parsing exons: 8 exons found\n",
      "Preprocessing sucessful\n",
      "Guides generated and duplicates removed\n",
      "1059 guides were generated\n",
      "5962 lines processed from ../../../tests/test_data/sgrna/hg38_short.fa\n",
      "0 guides out of 1059 guides occurred more than once in the reference genome\n",
      "Guides checked against reference genome\n",
      "Guides annotated\n",
      "Complete! Library generated from ../../../tests/test_data/sgrna/230408_AR_Input.fasta\n"
     ]
    }
   ],
   "source": [
    "! python3 -m be_scan design_library {gene_filepath} {genome_file} \"SpG\" \"A\" \"G\""
   ]
  },
  {
   "cell_type": "markdown",
   "metadata": {},
   "source": [
    "## be_scan.analysis"
   ]
  },
  {
   "cell_type": "code",
   "execution_count": 8,
   "metadata": {},
   "outputs": [],
   "source": [
    "sample_sheet       = f\"{analysis_dir}sample_sheet.csv\"\n",
    "annotated_lib      = f\"{analysis_dir}annotated_lib_sample_in.csv\"\n",
    "count_reads_output = f\"{analysis_dir}count_reads_sample_out.csv\"\n",
    "merge_norm_output  = f\"{analysis_dir}merge_and_norm_sample_out.csv\"\n",
    "average_output     = f\"{analysis_dir}average_reps_sample_out.csv\"\n",
    "comparisons        = f\"{analysis_dir}comparisons.csv\"\n",
    "compare_output     = f\"{analysis_dir}compare_conds_sample_out.csv\", "
   ]
  },
  {
   "cell_type": "markdown",
   "metadata": {},
   "source": [
    "### Function 1: be_scan.analysis.count_reads()"
   ]
  },
  {
   "cell_type": "code",
   "execution_count": 9,
   "metadata": {},
   "outputs": [
    {
     "name": "stdout",
     "output_type": "stream",
     "text": [
      "Namespace(sample_sheet='../../../tests/test_data/analysis/sample_sheet.csv', annotated_lib='../../../tests/test_data/analysis/annotated_lib_sample_in.csv', file_dir='../../../tests/test_data/analysis/', KEY_INTERVAL=[0, 35], KEY='ABCDEF', KEY_REV='GHIJKL', dont_trim_G=False, out_dir='', out_file='counts_library.csv', save=True, return_df=True, save_files=True, func=<function count_reads at 0x126c737e0>)\n",
      "{'sample_sheet': '../../../tests/test_data/analysis/sample_sheet.csv', 'annotated_lib': '../../../tests/test_data/analysis/annotated_lib_sample_in.csv', 'file_dir': '../../../tests/test_data/analysis/', 'KEY_INTERVAL': [0, 35], 'KEY': 'ABCDEF', 'KEY_REV': 'GHIJKL', 'dont_trim_G': False, 'out_dir': '', 'out_file': 'counts_library.csv', 'save': True, 'return_df': True, 'save_files': True}\n",
      "../../../tests/test_data/analysis/dummy1.fastq processed\n",
      "../../../tests/test_data/analysis/dummy2.fastq processed\n",
      "../../../tests/test_data/analysis/dummy3.fastq processed\n",
      "../../../tests/test_data/analysis/dummy4.fastq processed\n",
      "count_reads outputed to /Users/calvinxyh/Documents/GitHub/be_scan/docs/source/notebooks/counts_library.csv\n",
      "Count reads completed\n"
     ]
    }
   ],
   "source": [
    "! python3 -m be_scan count_reads {sample_sheet} {annotated_lib} \\\n",
    "    --file_dir {analysis_dir} --KEY_INTERVAL 0 35 --KEY ABCDEF --KEY_REV GHIJKL"
   ]
  },
  {
   "cell_type": "markdown",
   "metadata": {},
   "source": [
    "### Function 2: be_scan.analysis.merge_and_norm()"
   ]
  },
  {
   "cell_type": "code",
   "execution_count": 10,
   "metadata": {},
   "outputs": [
    {
     "name": "stdout",
     "output_type": "stream",
     "text": [
      "Namespace(sample_sheet='../../../tests/test_data/analysis/sample_sheet.csv', counts_library='../../../tests/test_data/analysis/count_reads_sample_out.csv', controls=['counts1'], out_dir='', out_file='agg_log2_t0.csv', save=True, return_df=True, func=<function merge_and_norm at 0x1399e39c0>)\n",
      "{'sample_sheet': '../../../tests/test_data/analysis/sample_sheet.csv', 'counts_library': '../../../tests/test_data/analysis/count_reads_sample_out.csv', 'controls': ['counts1'], 'out_dir': '', 'out_file': 'agg_log2_t0.csv', 'save': True, 'return_df': True}\n",
      "merge_and_norm outputed to /Users/calvinxyh/Documents/GitHub/be_scan/docs/source/notebooks/agg_log2_t0.csv\n",
      "Merge and normalize completed\n"
     ]
    }
   ],
   "source": [
    "! python3 -m be_scan merge_and_norm {sample_sheet} {count_reads_output} \\\n",
    "    --controls counts1"
   ]
  },
  {
   "cell_type": "markdown",
   "metadata": {},
   "source": [
    "### Function 3: be_scan.analysis.average_reps()"
   ]
  },
  {
   "cell_type": "code",
   "execution_count": 11,
   "metadata": {},
   "outputs": [
    {
     "name": "stdout",
     "output_type": "stream",
     "text": [
      "Namespace(sample_sheet='../../../tests/test_data/analysis/sample_sheet.csv', log2_subt0='../../../tests/test_data/analysis/merge_and_norm_sample_out.csv', out_dir='', out_file='avg_conds.csv', save=True, return_df=True, func=<function average_reps at 0x12a153c40>)\n",
      "{'sample_sheet': '../../../tests/test_data/analysis/sample_sheet.csv', 'log2_subt0': '../../../tests/test_data/analysis/merge_and_norm_sample_out.csv', 'out_dir': '', 'out_file': 'avg_conds.csv', 'save': True, 'return_df': True}\n",
      "average_reps outputed to /Users/calvinxyh/Documents/GitHub/be_scan/docs/source/notebooks/avg_conds.csv\n",
      "Average reps completed\n"
     ]
    }
   ],
   "source": [
    "! python3 -m be_scan average_reps {sample_sheet} {merge_norm_output}"
   ]
  },
  {
   "cell_type": "markdown",
   "metadata": {},
   "source": [
    "### Function 4: be_scan.analysis.compare_conds()"
   ]
  },
  {
   "cell_type": "code",
   "execution_count": 12,
   "metadata": {},
   "outputs": [
    {
     "name": "stdout",
     "output_type": "stream",
     "text": [
      "Namespace(comparisons='../../../tests/test_data/analysis/comparisons.csv', avg_conds='../../../tests/test_data/analysis/average_reps_sample_out.csv', out_dir='', out_file='conditions.csv', save=True, return_df=True, func=<function compare_conds at 0x11747fe20>)\n",
      "{'comparisons': '../../../tests/test_data/analysis/comparisons.csv', 'avg_conds': '../../../tests/test_data/analysis/average_reps_sample_out.csv', 'out_dir': '', 'out_file': 'conditions.csv', 'save': True, 'return_df': True}\n",
      "compare_conds outputed to /Users/calvinxyh/Documents/GitHub/be_scan/docs/source/notebooks/conditions.csv\n",
      "Compare conditions completed\n"
     ]
    }
   ],
   "source": [
    "! python3 -m be_scan compare_conds {comparisons} {average_output}"
   ]
  },
  {
   "cell_type": "markdown",
   "metadata": {},
   "source": [
    "### Function 5: be_scan.analysis.calc_controls()"
   ]
  },
  {
   "cell_type": "code",
   "execution_count": 13,
   "metadata": {},
   "outputs": [
    {
     "name": "stdout",
     "output_type": "stream",
     "text": [
      "Namespace(conditions='../../../tests/test_data/analysis/compare_conds_sample_out.csv', neg_ctrl_col='gene', stats_comparisons=['cond1'], neg_ctrl_conditions=['control'], out_dir='', out_file='stats.txt', save=True, return_txt=False, func=<function calc_controls at 0x115bc4400>)\n",
      "{'conditions': '../../../tests/test_data/analysis/compare_conds_sample_out.csv', 'neg_ctrl_col': 'gene', 'stats_comparisons': ['cond1'], 'neg_ctrl_conditions': ['control'], 'out_dir': '', 'out_file': 'stats.txt', 'save': True, 'return_txt': False}\n",
      "calc_controls outputed to /Users/calvinxyh/Documents/GitHub/be_scan/docs/source/notebooks/stats.txt\n",
      "Calculating controls completed\n"
     ]
    }
   ],
   "source": [
    "! python3 -m be_scan calc_controls \"../../../tests/test_data/analysis/compare_conds_sample_out.csv\" \\\n",
    "    gene -sc \"cond1\" -ncc \"control\""
   ]
  },
  {
   "cell_type": "markdown",
   "metadata": {},
   "source": [
    "### Function 1-5: be_scan.analysis.batch_process()"
   ]
  },
  {
   "cell_type": "code",
   "execution_count": null,
   "metadata": {},
   "outputs": [],
   "source": [
    "! python3 -m be_scan batch_process {sample_sheet} {annotated_lib} {comparisons} gene \\\n",
    "     -ncc \"control\" --controls \"counts1\" --file_dir {analysis_dir} \\\n",
    "     --KEY_INTERVAL 0 35 --KEY \"ABCDEF\" --KEY_REV \"GHIJKL\""
   ]
  },
  {
   "cell_type": "markdown",
   "metadata": {},
   "source": [
    "## be_scan.plot"
   ]
  },
  {
   "cell_type": "code",
   "execution_count": 15,
   "metadata": {},
   "outputs": [],
   "source": [
    "file = f\"{plot_dir}NZL10196_v9_comparisons.csv\""
   ]
  },
  {
   "cell_type": "code",
   "execution_count": 16,
   "metadata": {},
   "outputs": [
    {
     "name": "stdout",
     "output_type": "stream",
     "text": [
      "Namespace(df_filepath='../../../tests/test_data/plot/NZL10196_v9_comparisons.csv', x_column='Edit_site_3A1', comparisons=['d6-pos'], filter_val=False, val_cols=[], val_min=None, filter_params=False, params_cols=[], params_conditions=[], include_hue=False, hue_col='Mut_type', hue_order=['Nonsense', 'Missense', 'Silent', 'Non-exon', 'Splice', 'No_C/Exon', 'No_C/Non-exon', 'Control'], palette=['#fb8072', '#80b1d3', '#fdb462', '#b3de69', '#fccde5', '#d9d9d9', '#8dd3c7', '#ffffb3', '#bebada', '#bc80bd'], neg_ctrl=False, neg_ctrl_col='', neg_ctrl_conditions=[], autoannot=False, autoannot_label=None, autoannot_top=None, autoannot_cutoff=None, xlab='Amino Acid Position', ylab='sgRNA Score', col_label='subavg', savefig=True, out_name='scatterplot', out_type='png', out_directory='', show=True, xlim_kws={'xmin': None, 'xmax': None}, ylim_kws={'ymin': None, 'ymax': None}, scatterplot_kws={'alpha': 0.8, 'linewidth': 1.0, 'edgecolor': 'black', 's': 25}, subplots_kws={'figsize': (10, 4)}, axhline_kws={'color': 'k', 'ls': '--', 'lw': 1}, func=<function scatterplot at 0x13196c860>)\n",
      "{'df_filepath': '../../../tests/test_data/plot/NZL10196_v9_comparisons.csv', 'x_column': 'Edit_site_3A1', 'comparisons': ['d6-pos'], 'filter_val': False, 'val_cols': [], 'val_min': None, 'filter_params': False, 'params_cols': [], 'params_conditions': [], 'include_hue': False, 'hue_col': 'Mut_type', 'hue_order': ['Nonsense', 'Missense', 'Silent', 'Non-exon', 'Splice', 'No_C/Exon', 'No_C/Non-exon', 'Control'], 'palette': ['#fb8072', '#80b1d3', '#fdb462', '#b3de69', '#fccde5', '#d9d9d9', '#8dd3c7', '#ffffb3', '#bebada', '#bc80bd'], 'neg_ctrl': False, 'neg_ctrl_col': '', 'neg_ctrl_conditions': [], 'autoannot': False, 'autoannot_label': None, 'autoannot_top': None, 'autoannot_cutoff': None, 'xlab': 'Amino Acid Position', 'ylab': 'sgRNA Score', 'col_label': 'subavg', 'savefig': True, 'out_name': 'scatterplot', 'out_type': 'png', 'out_directory': '', 'show': True, 'xlim_kws': {'xmin': None, 'xmax': None}, 'ylim_kws': {'ymin': None, 'ymax': None}, 'scatterplot_kws': {'alpha': 0.8, 'linewidth': 1.0, 'edgecolor': 'black', 's': 25}, 'subplots_kws': {'figsize': (10, 4)}, 'axhline_kws': {'color': 'k', 'ls': '--', 'lw': 1}}\n",
      "No artists with labels found to put in legend.  Note that artists whose label start with an underscore are ignored when legend() is called with no argument.\n",
      "Figure(1000x400)\n",
      "Namespace(df_filepath='../../../tests/test_data/plot/NZL10196_v9_comparisons.csv', comparisons=['d3-pos', 'd3-neg', 'd6-pos', 'd6-neg', 'd9-pos', 'd9-neg'], corr_type='spearman', filter_val=False, val_cols=[], val_min=None, filter_params=False, params_cols=[], params_conditions=[], xlab='', ylab='', title='Spearman Correlation Heatmap', out_directory='', out_name='correlation_heatmap', out_type='png', savefig=True, show=True, heatmap_kws={'center': 0, 'linewidth': 0.5, 'cmap': 'coolwarm', 'square': True, 'cbar_kws': {'shrink': 0.5}, 'annot': True}, subplots_kws={'figsize': (4, 4)}, func=<function corr_heatmap at 0x137eb0fe0>)\n",
      "{'df_filepath': '../../../tests/test_data/plot/NZL10196_v9_comparisons.csv', 'comparisons': ['d3-pos', 'd3-neg', 'd6-pos', 'd6-neg', 'd9-pos', 'd9-neg'], 'corr_type': 'spearman', 'filter_val': False, 'val_cols': [], 'val_min': None, 'filter_params': False, 'params_cols': [], 'params_conditions': [], 'xlab': '', 'ylab': '', 'title': 'Spearman Correlation Heatmap', 'out_directory': '', 'out_name': 'correlation_heatmap', 'out_type': 'png', 'savefig': True, 'show': True, 'heatmap_kws': {'center': 0, 'linewidth': 0.5, 'cmap': 'coolwarm', 'square': True, 'cbar_kws': {'shrink': 0.5}, 'annot': True}, 'subplots_kws': {'figsize': (4, 4)}}\n",
      "Figure(400x400)\n",
      "Namespace(df_filepath='../../../tests/test_data/plot/NZL10196_v9_comparisons.csv', condition1='d3-neg', condition2='d9-pos', filter_val=False, val_cols=[], val_min=None, filter_params=False, params_cols=[], params_conditions=[], include_hue=True, hue_col='Mut_type', hue_order=['Nonsense', 'Missense', 'Silent', 'Non-exon', 'Splice', 'No_C/Exon', 'No_C/Non-exon', 'Control'], palette=['#fb8072', '#80b1d3', '#fdb462', '#b3de69', '#fccde5', '#d9d9d9', '#8dd3c7', '#ffffb3', '#bebada', '#bc80bd'], savefig=True, out_directory='', out_name='correlation_jointplot', out_type='png', show=True, jointplot_kws={'alpha': 0.8, 'linewidth': 1, 'edgecolor': 'black', 's': 25}, func=<function corr_jointplot at 0x16fc7ce00>)\n",
      "{'df_filepath': '../../../tests/test_data/plot/NZL10196_v9_comparisons.csv', 'condition1': 'd3-neg', 'condition2': 'd9-pos', 'filter_val': False, 'val_cols': [], 'val_min': None, 'filter_params': False, 'params_cols': [], 'params_conditions': [], 'include_hue': True, 'hue_col': 'Mut_type', 'hue_order': ['Nonsense', 'Missense', 'Silent', 'Non-exon', 'Splice', 'No_C/Exon', 'No_C/Non-exon', 'Control'], 'palette': ['#fb8072', '#80b1d3', '#fdb462', '#b3de69', '#fccde5', '#d9d9d9', '#8dd3c7', '#ffffb3', '#bebada', '#bc80bd'], 'savefig': True, 'out_directory': '', 'out_name': 'correlation_jointplot', 'out_type': 'png', 'show': True, 'jointplot_kws': {'alpha': 0.8, 'linewidth': 1, 'edgecolor': 'black', 's': 25}}\n",
      "/Users/calvinxyh/opt/anaconda3/envs/be-scan/lib/python3.12/site-packages/seaborn/axisgrid.py:1832: UserWarning: The palette list has more values (10) than needed (8), which may not be intended.\n",
      "  func(x=self.x, y=self.y, **kwargs)\n",
      "/Users/calvinxyh/opt/anaconda3/envs/be-scan/lib/python3.12/site-packages/seaborn/axisgrid.py:1883: UserWarning: The palette list has more values (10) than needed (8), which may not be intended.\n",
      "  func(x=self.x, ax=self.ax_marg_x, **kwargs)\n",
      "/Users/calvinxyh/opt/anaconda3/envs/be-scan/lib/python3.12/site-packages/seaborn/axisgrid.py:1889: UserWarning: The palette list has more values (10) than needed (8), which may not be intended.\n",
      "  func(y=self.y, ax=self.ax_marg_y, **kwargs)\n",
      "R: -0.7088480332812986 (p-value 2.6007890349625913e-112)\n",
      "R2: 0.5024655342867651\n",
      "Figure(600x600)\n",
      "Namespace(df_filepath='../../../tests/test_data/plot/NZL10196_v9_comparisons.csv', plot_column='Domain', comparisons=['d6-pos'], plot_conditions=['PWWP', 'ADD', 'MTase', 'Nterm'], filter_val=False, val_cols=[], val_min=None, filter_params=False, params_cols=[], params_conditions=[], neg_ctrl=False, neg_ctrl_col='', neg_ctrl_conditions=[], xlab='', ylab='Log2 Fold Change', col_label='subavg', savefig=True, out_name='boxes', out_type='png', out_directory='', show=True, func=<function boxplot at 0x13a8791c0>)\n",
      "{'df_filepath': '../../../tests/test_data/plot/NZL10196_v9_comparisons.csv', 'plot_column': 'Domain', 'comparisons': ['d6-pos'], 'plot_conditions': ['PWWP', 'ADD', 'MTase', 'Nterm'], 'filter_val': False, 'val_cols': [], 'val_min': None, 'filter_params': False, 'params_cols': [], 'params_conditions': [], 'neg_ctrl': False, 'neg_ctrl_col': '', 'neg_ctrl_conditions': [], 'xlab': '', 'ylab': 'Log2 Fold Change', 'col_label': 'subavg', 'savefig': True, 'out_name': 'boxes', 'out_type': 'png', 'out_directory': '', 'show': True}\n",
      "Figure(500x400)\n"
     ]
    }
   ],
   "source": [
    "# scatterplot\n",
    "! python3 -m be_scan scatterplot {file} Edit_site_3A1 -c d6-pos\n",
    "\n",
    "# corr_heatmap\n",
    "! python3 -m be_scan corr_heatmap {file} -c d3-pos d3-neg d6-pos \\\n",
    "    d6-neg d9-pos d9-neg\n",
    "\n",
    "# corr_jointplot\n",
    "! python3 -m be_scan corr_jointplot {file} d3-neg d9-pos \\\n",
    "    --include_hue --hue_col Mut_type\n",
    "\n",
    "# boxplot\n",
    "! python3 -m be_scan boxplot {file} Domain -c d6-pos \\\n",
    "    -pc PWWP ADD MTase Nterm"
   ]
  },
  {
   "cell_type": "code",
   "execution_count": null,
   "metadata": {},
   "outputs": [],
   "source": []
  }
 ],
 "metadata": {
  "kernelspec": {
   "display_name": "be-scan",
   "language": "python",
   "name": "python3"
  },
  "language_info": {
   "codemirror_mode": {
    "name": "ipython",
    "version": 3
   },
   "file_extension": ".py",
   "mimetype": "text/x-python",
   "name": "python",
   "nbconvert_exporter": "python",
   "pygments_lexer": "ipython3",
   "version": "3.12.0"
  }
 },
 "nbformat": 4,
 "nbformat_minor": 4
}
