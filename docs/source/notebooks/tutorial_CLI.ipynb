{
 "cells": [
  {
   "cell_type": "markdown",
   "metadata": {},
   "source": [
    "# CLI Tutorial Notebook"
   ]
  },
  {
   "cell_type": "markdown",
   "metadata": {},
   "source": [
    "## Function Calls"
   ]
  },
  {
   "cell_type": "code",
   "execution_count": null,
   "metadata": {},
   "outputs": [],
   "source": [
    "plot_dir = '../../../tests/test_data/plot_data/'\n",
    "sgrna_dir = '../../../tests/test_data/sgrna_data/'"
   ]
  },
  {
   "cell_type": "markdown",
   "metadata": {},
   "source": [
    "### be_scan.sgrna "
   ]
  },
  {
   "cell_type": "code",
   "execution_count": null,
   "metadata": {},
   "outputs": [],
   "source": [
    "gene_filepath = sgrna_dir + \"230408_AR_Input.fasta\"\n",
    "genome_file  = \"../../../../reference_genomes/GCF_000001405.26/ncbi_dataset/data/GCF_000001405.26/GCF_000001405.26_GRCh38_genomic.fna\"\n",
    "protein_filepath = sgrna_dir + \"P10275.fasta\""
   ]
  },
  {
   "cell_type": "code",
   "execution_count": null,
   "metadata": {},
   "outputs": [],
   "source": [
    "! python3 -m be_scan generate_BE_guides {gene_filepath} \"AR\" \"SpG\" \"C\" \"T\""
   ]
  },
  {
   "cell_type": "code",
   "execution_count": null,
   "metadata": {},
   "outputs": [],
   "source": [
    "! python3 -m be_scan check_guides \"guides.csv\" {genome_file}"
   ]
  },
  {
   "cell_type": "code",
   "execution_count": null,
   "metadata": {},
   "outputs": [],
   "source": [
    "! python3 -m be_scan annotate_guides \"output.csv\" \"\" {protein_filepath} \"C\" \"T"
   ]
  },
  {
   "cell_type": "code",
   "execution_count": null,
   "metadata": {},
   "outputs": [],
   "source": [
    "! python3 -m be_scan guides {gene_filepath} \"AR\" {genome_file} {protein_filepath} \"SpG\" \"C\" \"T\" "
   ]
  },
  {
   "cell_type": "markdown",
   "metadata": {},
   "source": [
    "### be_scan.analysis"
   ]
  },
  {
   "cell_type": "markdown",
   "metadata": {},
   "source": [
    "### be_scan.plot"
   ]
  },
  {
   "cell_type": "code",
   "execution_count": null,
   "metadata": {},
   "outputs": [],
   "source": [
    "# plot_scatterplot\n",
    "! python3 -m be_scan plot_scatterplot -df '../../../tests/test_data/plot_data/NZL10196_v9_comparisons.csv' -x 'Edit_site_3A1' -y 'log2_fc' -hue 'Mut_type' -ncol 'Gene' -ncat 'NON-GENE' --xmin 200  --savefig False -c 'd3-pos' 'd3-neg' 'd6-pos' 'd6-neg' 'd9-pos' 'd9-neg'\n",
    "### for some reason this still saves figures\n",
    "\n",
    "# plot_corr_heatmap\n",
    "! python3 -m be_scan plot_corr_heatmap -df '../../../tests/test_data/plot_data/NZL10196_v9_comparisons.csv' -c 'd3-pos' 'd3-neg' 'd6-pos' 'd6-neg' 'd9-pos' 'd9-neg' --savefig False\n",
    "\n",
    "# plot_corr_scatterplot\n",
    "! python3 -m be_scan plot_corr_scatterplot -df '../../../tests/test_data/plot_data/NZL10196_v9_comparisons.csv' -c1 'd3-neg' -c2 'd9-pos' -hue 'Mut_type' --hue_order 'Nonsense' 'Missense' 'Silent' 'Non-exon' 'Splice' 'No_C/Exon' 'No_C/Non-exon' 'Control' --savefig False\n",
    "### for some reason list_muttypes is not importing so input manually\n",
    "\n",
    "# plot_boxes\n",
    "! python3 -m be_scan plot_boxes -df '../../../tests/test_data/plot_data/NZL10196_v9_comparisons.csv' -p 'Domain' -pc 'PWWP' 'ADD' 'MTase' -y 'log2_fc' -c 'd3-pos' 'd3-neg' 'd6-pos' 'd6-neg' 'd9-pos' 'd9-neg' -ncol 'Gene' -ncat \"NON-GENE\" --savefig False"
   ]
  },
  {
   "cell_type": "markdown",
   "metadata": {},
   "source": [
    "ran <code>python3 -m be_scan plot_scatterplot -df 'tests/test_data/plot_data/NZL10196_v9_comparisons.csv' -x 'Edit_site_3A1' -y 'log2_fc' -hue 'Mut_type' -ncol 'Gene' -ncat 'NON-GENE' --xmin 200  --savefig False -c 'd3-pos' 'd3-neg' 'd6-pos' 'd6-neg' 'd9-pos' 'd9-neg'</code> from terminal <code>be_scan/</code>"
   ]
  },
  {
   "cell_type": "markdown",
   "metadata": {},
   "source": [
    "ran <code>python3 -m be_scan plot_corr_heatmap -df 'tests/test_data/plot_data/NZL10196_v9_comparisons.csv' -c 'd3-pos' 'd3-neg' 'd6-pos' 'd6-neg' 'd9-pos' 'd9-neg' --savefig False</code> from terminal <code>be_scan/</code>"
   ]
  },
  {
   "cell_type": "markdown",
   "metadata": {},
   "source": [
    "ran <code>python3 -m be_scan plot_corr_scatterplot -df 'tests/test_data/plot_data/NZL10196_v9_comparisons.csv' -c1 'd3-neg' -c2 'd9-pos' -hue 'Mut_type' --hue_order 'Nonsense' 'Missense' 'Silent' 'Non-exon' 'Splice' 'No_C/Exon' 'No_C/Non-exon' 'Control' --savefig False</code> from terminal <code>be_scan/</code>"
   ]
  },
  {
   "cell_type": "markdown",
   "metadata": {},
   "source": [
    "ran <code>python3 -m be_scan plot_boxes -df 'tests/test_data/plot_data/NZL10196_v9_comparisons.csv' -p 'Domain' -pc 'PWWP' 'ADD' 'MTase' -y 'log2_fc' -c 'd3-pos' 'd3-neg' 'd6-pos' 'd6-neg' 'd9-pos' 'd9-neg' -ncol 'Gene' -ncat \"NON-GENE\" --savefig False</code> from terminal <code>be_scan/</code>"
   ]
  }
 ],
 "metadata": {
  "kernelspec": {
   "display_name": "be-scan",
   "language": "python",
   "name": "python3"
  },
  "language_info": {
   "codemirror_mode": {
    "name": "ipython",
    "version": 3
   },
   "file_extension": ".py",
   "mimetype": "text/x-python",
   "name": "python",
   "nbconvert_exporter": "python",
   "pygments_lexer": "ipython3",
   "version": "3.12.0"
  }
 },
 "nbformat": 4,
 "nbformat_minor": 4
}